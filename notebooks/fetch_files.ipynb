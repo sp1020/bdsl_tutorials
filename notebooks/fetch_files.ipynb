{
 "cells": [
  {
   "cell_type": "code",
   "execution_count": 4,
   "metadata": {},
   "outputs": [],
   "source": [
    "import sys\n",
    "import os\n",
    "\n",
    "sys.path.append(os.path.abspath('../src'))\n",
    "\n",
    "from fetch_files import fetch_a_file, check_md5"
   ]
  },
  {
   "cell_type": "code",
   "execution_count": 5,
   "metadata": {},
   "outputs": [],
   "source": [
    "fetch_a_file('https://github.com/sp1020/bdsl_tutorials/raw/main/data/download_test/test.png', '../data/tempfile/test_download.png')\n",
    "fetch_a_file('https://github.com/sp1020/bdsl_tutorials/raw/main/data/download_test/test.md', '../data/tempfile/test_download.md', filetype='text')"
   ]
  },
  {
   "cell_type": "code",
   "execution_count": 6,
   "metadata": {},
   "outputs": [
    {
     "name": "stdout",
     "output_type": "stream",
     "text": [
      "[Info] Checksum match for ../data/tempfile/test_download.png\n",
      "[Info] Checksum match for ../data/tempfile/test_download.md\n"
     ]
    }
   ],
   "source": [
    "check_md5('../data/tempfile/test_download.png', '38355e6d5d139da77c079d97b0187383')\n",
    "check_md5('../data/tempfile/test_download.md', '98039872265cff831a7f96780b40bc9e')"
   ]
  }
 ],
 "metadata": {
  "kernelspec": {
   "display_name": "Python 3",
   "language": "python",
   "name": "python3"
  },
  "language_info": {
   "codemirror_mode": {
    "name": "ipython",
    "version": 3
   },
   "file_extension": ".py",
   "mimetype": "text/x-python",
   "name": "python",
   "nbconvert_exporter": "python",
   "pygments_lexer": "ipython3",
   "version": "3.9.18"
  }
 },
 "nbformat": 4,
 "nbformat_minor": 2
}
